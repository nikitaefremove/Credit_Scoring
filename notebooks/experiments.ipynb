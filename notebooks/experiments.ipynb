{
 "cells": [
  {
   "cell_type": "markdown",
   "id": "f70074c8-ba72-4d39-8dd3-8ce7db8a9429",
   "metadata": {},
   "source": [
    "# Credit scoring"
   ]
  },
  {
   "cell_type": "markdown",
   "id": "63e4881e-be8e-40f8-a070-6dd8b530dbe7",
   "metadata": {},
   "source": [
    "The process of creating a credit scoring model.\n",
    "To create the model I used the following process:\n",
    "- exploratory data analysis, drew up a rough action plan\n",
    "- filled in missing values in features, identified new features from the date, processed categorical features\n",
    "- scaled the features using Standard Scaler\n",
    "- splitted the dataset into training and test samples, taking into account class imbalance\n",
    "- created and launched tracking metrics and model parameters using MLFlow\n",
    "- compared LogisticRegression, RandomForestClassifier, CatboostClassifier"
   ]
  },
  {
   "cell_type": "code",
   "execution_count": 79,
   "id": "80dcef07-cc54-4d75-ab21-1af8e6fd021d",
   "metadata": {},
   "outputs": [],
   "source": [
    "import json\n",
    "import pandas as pd\n",
    "import matplotlib.pyplot as plt\n",
    "import seaborn as sns\n",
    "\n",
    "import mlflow\n",
    "from mlflow.tracking import MlflowClient\n",
    "\n",
    "from sklearn.linear_model import LogisticRegression\n",
    "from sklearn.ensemble import RandomForestClassifier\n",
    "from sklearn.pipeline import Pipeline\n",
    "from sklearn.preprocessing import StandardScaler\n",
    "from sklearn.model_selection import train_test_split\n",
    "\n",
    "from sklearn.metrics import roc_auc_score\n",
    "\n",
    "from catboost import CatBoostClassifier\n",
    "\n",
    "%matplotlib inline"
   ]
  },
  {
   "cell_type": "code",
   "execution_count": 38,
   "id": "bdc61ca2-ba6e-42d4-9927-96871f0bef92",
   "metadata": {},
   "outputs": [
    {
     "data": {
      "text/plain": [
       "<Experiment: artifact_location='/Users/nikitaefremov/Documents/DATA_SCIENCE/Credit_Scoring/notebooks/mlruns/3', creation_time=1713111825585, experiment_id='3', last_update_time=1713111825585, lifecycle_stage='active', name='Credit_Scoring', tags={}>"
      ]
     },
     "execution_count": 38,
     "metadata": {},
     "output_type": "execute_result"
    }
   ],
   "source": [
    "mlflow.set_tracking_uri(\"sqlite:///mlflow.db\")\n",
    "mlflow.set_experiment(\"Credit_Scoring\")"
   ]
  },
  {
   "cell_type": "markdown",
   "id": "5d241b3e-4d26-4fb2-8294-b30270742c6d",
   "metadata": {},
   "source": [
    "____"
   ]
  },
  {
   "cell_type": "code",
   "execution_count": 39,
   "id": "1cd05e00-6250-4045-b6f5-fe2cef557c78",
   "metadata": {},
   "outputs": [],
   "source": [
    "df = pd.read_excel('../data/text_data_model.xlsx')"
   ]
  },
  {
   "cell_type": "markdown",
   "id": "f69d17b2-65c3-4c2b-9996-d6ba45ec2be2",
   "metadata": {},
   "source": [
    "## EDA"
   ]
  },
  {
   "cell_type": "code",
   "execution_count": 40,
   "id": "9eec2748-0cf6-4bb2-8ae6-30dd2f682e7a",
   "metadata": {},
   "outputs": [
    {
     "data": {
      "text/html": [
       "<div>\n",
       "<style scoped>\n",
       "    .dataframe tbody tr th:only-of-type {\n",
       "        vertical-align: middle;\n",
       "    }\n",
       "\n",
       "    .dataframe tbody tr th {\n",
       "        vertical-align: top;\n",
       "    }\n",
       "\n",
       "    .dataframe thead th {\n",
       "        text-align: right;\n",
       "    }\n",
       "</style>\n",
       "<table border=\"1\" class=\"dataframe\">\n",
       "  <thead>\n",
       "    <tr style=\"text-align: right;\">\n",
       "      <th></th>\n",
       "      <th>id</th>\n",
       "      <th>x3</th>\n",
       "      <th>x4</th>\n",
       "      <th>x5</th>\n",
       "      <th>x6</th>\n",
       "      <th>x11</th>\n",
       "    </tr>\n",
       "  </thead>\n",
       "  <tbody>\n",
       "    <tr>\n",
       "      <th>count</th>\n",
       "      <td>2000</td>\n",
       "      <td>1987</td>\n",
       "      <td>2000</td>\n",
       "      <td>2000</td>\n",
       "      <td>34</td>\n",
       "      <td>2000</td>\n",
       "    </tr>\n",
       "    <tr>\n",
       "      <th>unique</th>\n",
       "      <td>2000</td>\n",
       "      <td>6</td>\n",
       "      <td>11</td>\n",
       "      <td>2000</td>\n",
       "      <td>34</td>\n",
       "      <td>127</td>\n",
       "    </tr>\n",
       "    <tr>\n",
       "      <th>top</th>\n",
       "      <td>7ED6CC5B-6628-4873-9D4C-33455B29CC4C</td>\n",
       "      <td>Android</td>\n",
       "      <td>UMID</td>\n",
       "      <td>*******ynordemaala1985@gmail.com</td>\n",
       "      <td>+6390627*****</td>\n",
       "      <td>[{\"id\": \"E115\", \"name\": \"Domain is a free prov...</td>\n",
       "    </tr>\n",
       "    <tr>\n",
       "      <th>freq</th>\n",
       "      <td>1</td>\n",
       "      <td>1783</td>\n",
       "      <td>491</td>\n",
       "      <td>1</td>\n",
       "      <td>1</td>\n",
       "      <td>810</td>\n",
       "    </tr>\n",
       "  </tbody>\n",
       "</table>\n",
       "</div>"
      ],
      "text/plain": [
       "                                          id       x3    x4  \\\n",
       "count                                   2000     1987  2000   \n",
       "unique                                  2000        6    11   \n",
       "top     7ED6CC5B-6628-4873-9D4C-33455B29CC4C  Android  UMID   \n",
       "freq                                       1     1783   491   \n",
       "\n",
       "                                      x5             x6  \\\n",
       "count                               2000             34   \n",
       "unique                              2000             34   \n",
       "top     *******ynordemaala1985@gmail.com  +6390627*****   \n",
       "freq                                   1              1   \n",
       "\n",
       "                                                      x11  \n",
       "count                                                2000  \n",
       "unique                                                127  \n",
       "top     [{\"id\": \"E115\", \"name\": \"Domain is a free prov...  \n",
       "freq                                                  810  "
      ]
     },
     "execution_count": 40,
     "metadata": {},
     "output_type": "execute_result"
    }
   ],
   "source": [
    "df.describe(include='object')"
   ]
  },
  {
   "cell_type": "code",
   "execution_count": 41,
   "id": "637e5f86-7204-4cab-9c86-6331d245e907",
   "metadata": {},
   "outputs": [
    {
     "data": {
      "text/html": [
       "<div>\n",
       "<style scoped>\n",
       "    .dataframe tbody tr th:only-of-type {\n",
       "        vertical-align: middle;\n",
       "    }\n",
       "\n",
       "    .dataframe tbody tr th {\n",
       "        vertical-align: top;\n",
       "    }\n",
       "\n",
       "    .dataframe thead th {\n",
       "        text-align: right;\n",
       "    }\n",
       "</style>\n",
       "<table border=\"1\" class=\"dataframe\">\n",
       "  <thead>\n",
       "    <tr style=\"text-align: right;\">\n",
       "      <th></th>\n",
       "      <th>x1</th>\n",
       "      <th>x2</th>\n",
       "      <th>x7</th>\n",
       "      <th>x8</th>\n",
       "      <th>x9</th>\n",
       "      <th>x10</th>\n",
       "      <th>y</th>\n",
       "    </tr>\n",
       "  </thead>\n",
       "  <tbody>\n",
       "    <tr>\n",
       "      <th>count</th>\n",
       "      <td>2000.000000</td>\n",
       "      <td>1976.000000</td>\n",
       "      <td>1953.000000</td>\n",
       "      <td>1943.000000</td>\n",
       "      <td>1982.000000</td>\n",
       "      <td>1943.000000</td>\n",
       "      <td>2000.000000</td>\n",
       "    </tr>\n",
       "    <tr>\n",
       "      <th>mean</th>\n",
       "      <td>34.251812</td>\n",
       "      <td>22141.979757</td>\n",
       "      <td>0.292883</td>\n",
       "      <td>0.854864</td>\n",
       "      <td>0.838042</td>\n",
       "      <td>0.316006</td>\n",
       "      <td>0.352000</td>\n",
       "    </tr>\n",
       "    <tr>\n",
       "      <th>std</th>\n",
       "      <td>8.953549</td>\n",
       "      <td>22189.029628</td>\n",
       "      <td>0.455202</td>\n",
       "      <td>0.352329</td>\n",
       "      <td>0.368505</td>\n",
       "      <td>0.465035</td>\n",
       "      <td>0.477713</td>\n",
       "    </tr>\n",
       "    <tr>\n",
       "      <th>min</th>\n",
       "      <td>22.015058</td>\n",
       "      <td>250.000000</td>\n",
       "      <td>0.000000</td>\n",
       "      <td>0.000000</td>\n",
       "      <td>0.000000</td>\n",
       "      <td>0.000000</td>\n",
       "      <td>0.000000</td>\n",
       "    </tr>\n",
       "    <tr>\n",
       "      <th>25%</th>\n",
       "      <td>27.338125</td>\n",
       "      <td>13000.000000</td>\n",
       "      <td>0.000000</td>\n",
       "      <td>1.000000</td>\n",
       "      <td>1.000000</td>\n",
       "      <td>0.000000</td>\n",
       "      <td>0.000000</td>\n",
       "    </tr>\n",
       "    <tr>\n",
       "      <th>50%</th>\n",
       "      <td>32.243669</td>\n",
       "      <td>18500.000000</td>\n",
       "      <td>0.000000</td>\n",
       "      <td>1.000000</td>\n",
       "      <td>1.000000</td>\n",
       "      <td>0.000000</td>\n",
       "      <td>0.000000</td>\n",
       "    </tr>\n",
       "    <tr>\n",
       "      <th>75%</th>\n",
       "      <td>39.380561</td>\n",
       "      <td>25000.000000</td>\n",
       "      <td>1.000000</td>\n",
       "      <td>1.000000</td>\n",
       "      <td>1.000000</td>\n",
       "      <td>1.000000</td>\n",
       "      <td>1.000000</td>\n",
       "    </tr>\n",
       "    <tr>\n",
       "      <th>max</th>\n",
       "      <td>68.553046</td>\n",
       "      <td>400000.000000</td>\n",
       "      <td>1.000000</td>\n",
       "      <td>1.000000</td>\n",
       "      <td>1.000000</td>\n",
       "      <td>1.000000</td>\n",
       "      <td>1.000000</td>\n",
       "    </tr>\n",
       "  </tbody>\n",
       "</table>\n",
       "</div>"
      ],
      "text/plain": [
       "                x1             x2           x7           x8           x9  \\\n",
       "count  2000.000000    1976.000000  1953.000000  1943.000000  1982.000000   \n",
       "mean     34.251812   22141.979757     0.292883     0.854864     0.838042   \n",
       "std       8.953549   22189.029628     0.455202     0.352329     0.368505   \n",
       "min      22.015058     250.000000     0.000000     0.000000     0.000000   \n",
       "25%      27.338125   13000.000000     0.000000     1.000000     1.000000   \n",
       "50%      32.243669   18500.000000     0.000000     1.000000     1.000000   \n",
       "75%      39.380561   25000.000000     1.000000     1.000000     1.000000   \n",
       "max      68.553046  400000.000000     1.000000     1.000000     1.000000   \n",
       "\n",
       "               x10            y  \n",
       "count  1943.000000  2000.000000  \n",
       "mean      0.316006     0.352000  \n",
       "std       0.465035     0.477713  \n",
       "min       0.000000     0.000000  \n",
       "25%       0.000000     0.000000  \n",
       "50%       0.000000     0.000000  \n",
       "75%       1.000000     1.000000  \n",
       "max       1.000000     1.000000  "
      ]
     },
     "execution_count": 41,
     "metadata": {},
     "output_type": "execute_result"
    }
   ],
   "source": [
    "df.describe(include='number')"
   ]
  },
  {
   "cell_type": "markdown",
   "id": "214b0537-50d2-4043-9bcf-1f5155d1a262",
   "metadata": {},
   "source": [
    "### TODO:"
   ]
  },
  {
   "cell_type": "markdown",
   "id": "1253173b-51cb-4bcd-a7a6-b72d1a901bd5",
   "metadata": {},
   "source": [
    "Categorical: \\\n",
    "id - delete \\\n",
    "x3 - to one hot encoding, only 6 values \\\n",
    "x4 - 11 values, one hot encoding or mean target encoding \\\n",
    "x5 - email, delete \\\n",
    "x6 - only 34 values. Delete or create binary feature \\\n",
    "x11 - a lot unique values - 127. Parse JSON and look what is inside\n",
    "\n",
    "Numerical: \\\n",
    "x1 - there is no missing values \\\n",
    "x2 - income? there is a few missing values \\\n",
    "x7 - binary column, 47 missing values \\\n",
    "x8 - binary column, 57 missing values \\\n",
    "x9 - binary column, 18 missing values \\\n",
    "x10 - binary column, 57 missing values \\\n",
    "y - target, there is no missing values \n",
    "\n",
    "Data: \\\n",
    "dt - data, get year, month, day of week"
   ]
  },
  {
   "cell_type": "markdown",
   "id": "fb11cf25-34fc-48f5-834d-81dfe905935c",
   "metadata": {},
   "source": [
    "### Correlation between features"
   ]
  },
  {
   "cell_type": "code",
   "execution_count": 42,
   "id": "453be5c1-0cdc-4e92-b290-527906de33dc",
   "metadata": {},
   "outputs": [
    {
     "data": {
      "image/png": "[encoded data removed]",
      "text/plain": [
       "<Figure size 2000x500 with 6 Axes>"
      ]
     },
     "metadata": {},
     "output_type": "display_data"
    }
   ],
   "source": [
    "# Use 3 methods of correlation\n",
    "methods = ['pearson', 'kendall', 'spearman']\n",
    "\n",
    "fig, axes = plt.subplots(1, 3, figsize=(20, 5))\n",
    "\n",
    "for idx, method in enumerate(methods):\n",
    "    corr_matrix = df[df.describe(include='number').columns].corr(method=method)\n",
    "    sns.heatmap(corr_matrix, ax=axes[idx], annot=True, fmt=\".2f\", cmap='coolwarm')\n",
    "    axes[idx].set_title(f'Correlation between features, mathod - {method}')\n",
    "\n",
    "\n",
    "plt.tight_layout() \n",
    "plt.show()"
   ]
  },
  {
   "cell_type": "markdown",
   "id": "86f95706-c93a-4be0-a118-66345d43ea7a",
   "metadata": {},
   "source": [
    "There is no valuable correlation between features"
   ]
  },
  {
   "cell_type": "code",
   "execution_count": 43,
   "id": "9f23c228-b556-4e98-b7b8-e97905189551",
   "metadata": {},
   "outputs": [
    {
     "data": {
      "text/plain": [
       "y\n",
       "0    1296\n",
       "1     704\n",
       "Name: count, dtype: int64"
      ]
     },
     "execution_count": 43,
     "metadata": {},
     "output_type": "execute_result"
    }
   ],
   "source": [
    "df['y'].value_counts()"
   ]
  },
  {
   "cell_type": "markdown",
   "id": "e5799d7a-9002-4b73-a43a-4c23727fed46",
   "metadata": {},
   "source": [
    "There is a slight class imbalance"
   ]
  },
  {
   "cell_type": "markdown",
   "id": "edbf6f61-5446-4292-828f-ab45e44e3670",
   "metadata": {},
   "source": [
    "____"
   ]
  },
  {
   "cell_type": "markdown",
   "id": "e97f6108-fc40-4fc9-af0b-5abf78892ff0",
   "metadata": {},
   "source": [
    "## Feature Engineering"
   ]
  },
  {
   "cell_type": "code",
   "execution_count": 44,
   "id": "f865a2a2-394c-4de9-ae99-f1edf76a4335",
   "metadata": {},
   "outputs": [],
   "source": [
    "# Delete index, email and phone numbers\n",
    "df = df.drop(['id', 'x5', 'x6'], axis=1)"
   ]
  },
  {
   "cell_type": "code",
   "execution_count": 45,
   "id": "c561aebf-ea4d-4db5-a78b-e8f01a8f5550",
   "metadata": {},
   "outputs": [],
   "source": [
    "# Get month and day of week\n",
    "df['month'] = df['dt'].dt.month\n",
    "df['day_of_week'] = df['dt'].dt.day_of_week\n",
    "\n",
    "df = df.drop('dt', axis=1)"
   ]
  },
  {
   "cell_type": "code",
   "execution_count": 46,
   "id": "54aa5805-4c56-4a66-a5ce-3f436f7e38b8",
   "metadata": {},
   "outputs": [],
   "source": [
    "# Fill missing values in x2 with median\n",
    "# TODO: try mean, mode\n",
    "\n",
    "df['x2'] = df['x2'].fillna(df.x2.median())"
   ]
  },
  {
   "cell_type": "markdown",
   "id": "35addb09-532e-4c74-bd1a-c3ab16b4caf3",
   "metadata": {},
   "source": [
    "### Emissions"
   ]
  },
  {
   "cell_type": "code",
   "execution_count": 47,
   "id": "68d4e6a7-7716-44e1-9c54-d9e88a146142",
   "metadata": {},
   "outputs": [
    {
     "data": {
      "image/png": "[encoded data removed]",
      "text/plain": [
       "<Figure size 2000x800 with 2 Axes>"
      ]
     },
     "metadata": {},
     "output_type": "display_data"
    }
   ],
   "source": [
    "fig, axes = plt.subplots(1, 2, figsize=(20, 8))\n",
    "\n",
    "num_cols = ['x1', 'x2']\n",
    "for idx, col in enumerate(num_cols):\n",
    "    axes[idx].boxplot(df[col]) \n",
    "    axes[idx].set_title(f'{col}')\n",
    "\n",
    "plt.tight_layout()\n",
    "plt.show()    "
   ]
  },
  {
   "cell_type": "markdown",
   "id": "27532ef3-301e-4996-a08f-9092f27120d4",
   "metadata": {},
   "source": [
    "There is no valuable emmisions in x1. \\\n",
    "Delete rows where values of x2 > 200000 for improving accuracy of models"
   ]
  },
  {
   "cell_type": "code",
   "execution_count": 48,
   "id": "dea965fa-4a38-4262-a5fd-212ce33ed568",
   "metadata": {},
   "outputs": [],
   "source": [
    "df = df[df['x2'] < 200000]"
   ]
  },
  {
   "cell_type": "code",
   "execution_count": 49,
   "id": "34be56ad-fc53-48b6-88b0-860cb7ef3972",
   "metadata": {},
   "outputs": [],
   "source": [
    "# Fill the missing values in binary columns with mode and convert them to int type\n",
    "\n",
    "cols = ['x7', 'x8', 'x9', 'x10']\n",
    "\n",
    "for col in cols:\n",
    "    mode_value = df[col].mode()[0]\n",
    "    df[col] = df[col].fillna(mode_value).astype(int)"
   ]
  },
  {
   "cell_type": "code",
   "execution_count": 50,
   "id": "33cf09d7-65b5-4381-99a6-77125d1a456c",
   "metadata": {},
   "outputs": [],
   "source": [
    "# Fill the missing values in categorical columns with mode\n",
    "cat_cols = ['x3', 'x4']\n",
    "\n",
    "for col in cat_cols:\n",
    "    mode_value = df[col].mode()[0]\n",
    "    df[col] = df[col].fillna(mode_value)"
   ]
  },
  {
   "cell_type": "code",
   "execution_count": 51,
   "id": "39671637-f0f2-445d-9df5-667dbb241ac6",
   "metadata": {},
   "outputs": [
    {
     "data": {
      "text/plain": [
       "x1             0\n",
       "x2             0\n",
       "x3             0\n",
       "x4             0\n",
       "x7             0\n",
       "x8             0\n",
       "x9             0\n",
       "x10            0\n",
       "x11            0\n",
       "y              0\n",
       "month          0\n",
       "day_of_week    0\n",
       "dtype: int64"
      ]
     },
     "execution_count": 51,
     "metadata": {},
     "output_type": "execute_result"
    }
   ],
   "source": [
    "# Control check for missing values\n",
    "df.isna().sum()"
   ]
  },
  {
   "cell_type": "markdown",
   "id": "afd7a15d-1c22-42e5-8b7f-e6b92f225c9e",
   "metadata": {},
   "source": [
    "#### Parse JSON"
   ]
  },
  {
   "cell_type": "code",
   "execution_count": 52,
   "id": "61d83c34-0f23-4aa9-b696-9f9737f22a04",
   "metadata": {},
   "outputs": [],
   "source": [
    "def safe_json_loads(s):\n",
    "    try:\n",
    "        return json.loads(s)\n",
    "    except ValueError:\n",
    "        return None \n",
    "\n",
    "df['x11'] = df['x11'].apply(safe_json_loads)"
   ]
  },
  {
   "cell_type": "code",
   "execution_count": 53,
   "id": "ac579470-cfa4-4c75-a8bb-3f100e0a35b1",
   "metadata": {},
   "outputs": [],
   "source": [
    "def calculate_score_stats(dicts):\n",
    "    scores = [d.get('score') for d in dicts if 'score' in d]\n",
    "    if not scores: \n",
    "        return {'total_score': None, 'max_score': None, 'min_score': None}\n",
    "    total_score = sum(scores)\n",
    "    max_score = max(scores)\n",
    "    min_score = min(scores)\n",
    "    mean_score = sum(scores) / len(scores)\n",
    "    return {'total_score': total_score, 'max_score': max_score, 'min_score': min_score, 'mean_score': mean_score}"
   ]
  },
  {
   "cell_type": "code",
   "execution_count": 54,
   "id": "71c09926-aebe-42b8-9d09-0085dabf0799",
   "metadata": {},
   "outputs": [],
   "source": [
    "new_features_df = pd.DataFrame()"
   ]
  },
  {
   "cell_type": "code",
   "execution_count": 55,
   "id": "b56b1c29-b50f-40f2-976b-a6b610d9cf32",
   "metadata": {},
   "outputs": [],
   "source": [
    "new_features_df[['total_score', 'max_score', 'min_score', 'mean_score']] = df['x11'].apply(lambda x: pd.Series(calculate_score_stats(x)))"
   ]
  },
  {
   "cell_type": "code",
   "execution_count": 56,
   "id": "4e12eacb-6bba-4fde-a100-3fdd4572150d",
   "metadata": {},
   "outputs": [
    {
     "data": {
      "text/html": [
       "<div>\n",
       "<style scoped>\n",
       "    .dataframe tbody tr th:only-of-type {\n",
       "        vertical-align: middle;\n",
       "    }\n",
       "\n",
       "    .dataframe tbody tr th {\n",
       "        vertical-align: top;\n",
       "    }\n",
       "\n",
       "    .dataframe thead th {\n",
       "        text-align: right;\n",
       "    }\n",
       "</style>\n",
       "<table border=\"1\" class=\"dataframe\">\n",
       "  <thead>\n",
       "    <tr style=\"text-align: right;\">\n",
       "      <th></th>\n",
       "      <th>total_score</th>\n",
       "      <th>max_score</th>\n",
       "      <th>min_score</th>\n",
       "      <th>mean_score</th>\n",
       "    </tr>\n",
       "  </thead>\n",
       "  <tbody>\n",
       "    <tr>\n",
       "      <th>0</th>\n",
       "      <td>1.0</td>\n",
       "      <td>1.0</td>\n",
       "      <td>0.0</td>\n",
       "      <td>0.5</td>\n",
       "    </tr>\n",
       "    <tr>\n",
       "      <th>1</th>\n",
       "      <td>1.0</td>\n",
       "      <td>1.0</td>\n",
       "      <td>0.0</td>\n",
       "      <td>0.5</td>\n",
       "    </tr>\n",
       "    <tr>\n",
       "      <th>2</th>\n",
       "      <td>1.0</td>\n",
       "      <td>1.0</td>\n",
       "      <td>0.0</td>\n",
       "      <td>0.5</td>\n",
       "    </tr>\n",
       "    <tr>\n",
       "      <th>3</th>\n",
       "      <td>1.0</td>\n",
       "      <td>1.0</td>\n",
       "      <td>0.0</td>\n",
       "      <td>0.5</td>\n",
       "    </tr>\n",
       "    <tr>\n",
       "      <th>4</th>\n",
       "      <td>3.0</td>\n",
       "      <td>2.0</td>\n",
       "      <td>0.0</td>\n",
       "      <td>1.0</td>\n",
       "    </tr>\n",
       "  </tbody>\n",
       "</table>\n",
       "</div>"
      ],
      "text/plain": [
       "   total_score  max_score  min_score  mean_score\n",
       "0          1.0        1.0        0.0         0.5\n",
       "1          1.0        1.0        0.0         0.5\n",
       "2          1.0        1.0        0.0         0.5\n",
       "3          1.0        1.0        0.0         0.5\n",
       "4          3.0        2.0        0.0         1.0"
      ]
     },
     "execution_count": 56,
     "metadata": {},
     "output_type": "execute_result"
    }
   ],
   "source": [
    "new_features_df.head()"
   ]
  },
  {
   "cell_type": "code",
   "execution_count": 57,
   "id": "df25939a-444e-4e1e-93b4-7ed177173672",
   "metadata": {},
   "outputs": [],
   "source": [
    "df = df.drop('x11', axis=1)\n",
    "df = pd.concat([df, new_features_df], axis=1)"
   ]
  },
  {
   "cell_type": "markdown",
   "id": "af293abc-f4a9-4704-9cc1-6a4ca6de3103",
   "metadata": {},
   "source": [
    "#### Correlation of new features between themselves and the target variable"
   ]
  },
  {
   "cell_type": "code",
   "execution_count": 58,
   "id": "dc46e81f-30d4-4a56-bdab-2c38eb0672b0",
   "metadata": {},
   "outputs": [
    {
     "data": {
      "image/png": "[encoded data removed]",
      "text/plain": [
       "<Figure size 2000x700 with 6 Axes>"
      ]
     },
     "metadata": {},
     "output_type": "display_data"
    }
   ],
   "source": [
    "methods = ['pearson', 'kendall', 'spearman']\n",
    "\n",
    "fig, axes = plt.subplots(1, 3, figsize=(20, 7))\n",
    "\n",
    "for idx, method in enumerate(methods):\n",
    "    score_corr_matrix = df[['total_score', 'max_score', 'min_score', 'mean_score', 'y']].corr()\n",
    "    sns.heatmap(score_corr_matrix, ax=axes[idx], annot=True, fmt=\".2f\", cmap='coolwarm')\n",
    "    axes[idx].set_title(f'Correlation between features, method - {method}')\n",
    "\n",
    "\n",
    "plt.tight_layout() \n",
    "plt.show()"
   ]
  },
  {
   "cell_type": "markdown",
   "id": "815b65d2-974f-4393-a4f4-d887c7df6818",
   "metadata": {},
   "source": [
    "There is no obvious correlation between the traits and the target variable, but there is a strong correlation between each other.\n",
    "\n",
    "To train the model we will use max_score and min_score"
   ]
  },
  {
   "cell_type": "code",
   "execution_count": 59,
   "id": "74cd3a52-6f27-4d31-8a58-7e779c8c162e",
   "metadata": {},
   "outputs": [],
   "source": [
    "df.drop(['total_score', 'mean_score'], axis=1, inplace=True)"
   ]
  },
  {
   "cell_type": "markdown",
   "id": "ba027d11-d6eb-4712-b8ff-66af768cb33a",
   "metadata": {},
   "source": [
    "#### One Hot Encoding"
   ]
  },
  {
   "cell_type": "code",
   "execution_count": 60,
   "id": "2a62e0f7-7183-4543-b56d-6c36d9ae15ff",
   "metadata": {},
   "outputs": [],
   "source": [
    "# Copy dataframe to use processing of categorical features in Catboost\n",
    "df_for_cat = df.copy()"
   ]
  },
  {
   "cell_type": "code",
   "execution_count": 61,
   "id": "a378d74e-7066-47c3-a17d-c5a5607cd06e",
   "metadata": {},
   "outputs": [],
   "source": [
    "ohe_cols = ['x3', 'x4']"
   ]
  },
  {
   "cell_type": "code",
   "execution_count": 62,
   "id": "6eff737a-9fb0-4d7b-95d3-18b0b5fcd914",
   "metadata": {},
   "outputs": [],
   "source": [
    "df = pd.get_dummies(df, columns=ohe_cols, dtype=int)"
   ]
  },
  {
   "cell_type": "markdown",
   "id": "932ef9cc-fa59-4389-aea4-ddb18c692030",
   "metadata": {},
   "source": [
    "____"
   ]
  },
  {
   "cell_type": "markdown",
   "id": "4dcfe5ea-8072-4b75-9323-6706498f081d",
   "metadata": {},
   "source": [
    "## Scaler"
   ]
  },
  {
   "cell_type": "code",
   "execution_count": 63,
   "id": "fb926ca5-0e6e-4fd4-b209-07b8576230ce",
   "metadata": {},
   "outputs": [],
   "source": [
    "scaler = StandardScaler()"
   ]
  },
  {
   "cell_type": "code",
   "execution_count": 64,
   "id": "52070cfc-f013-4a8f-a37f-e363114a371e",
   "metadata": {},
   "outputs": [],
   "source": [
    "numerical_features_df = [i for i in df.describe(include='number').columns]\n",
    "\n",
    "numerical_features_df_cf = [i for i in df_for_cat.describe(include='number')]"
   ]
  },
  {
   "cell_type": "code",
   "execution_count": 65,
   "id": "2abf4f77-4668-49ca-8b00-0b3051bd3a35",
   "metadata": {},
   "outputs": [],
   "source": [
    "numerical_features_df.remove('y')\n",
    "numerical_features_df_cf.remove('y')"
   ]
  },
  {
   "cell_type": "code",
   "execution_count": 66,
   "id": "9571219b-ce11-433d-8ef8-39da299be474",
   "metadata": {},
   "outputs": [],
   "source": [
    "df[numerical_features_df] = scaler.fit_transform(df[numerical_features_df])\n",
    "df_for_cat[numerical_features_df_cf] = scaler.fit_transform(df_for_cat[numerical_features_df_cf])"
   ]
  },
  {
   "cell_type": "markdown",
   "id": "240d1069-7719-4b6e-b217-f3d60fae9543",
   "metadata": {},
   "source": [
    "___"
   ]
  },
  {
   "cell_type": "code",
   "execution_count": 67,
   "id": "b6bac0ea-d866-4003-898e-3aebb02c46e3",
   "metadata": {},
   "outputs": [
    {
     "data": {
      "text/html": [
       "<div>\n",
       "<style scoped>\n",
       "    .dataframe tbody tr th:only-of-type {\n",
       "        vertical-align: middle;\n",
       "    }\n",
       "\n",
       "    .dataframe tbody tr th {\n",
       "        vertical-align: top;\n",
       "    }\n",
       "\n",
       "    .dataframe thead th {\n",
       "        text-align: right;\n",
       "    }\n",
       "</style>\n",
       "<table border=\"1\" class=\"dataframe\">\n",
       "  <thead>\n",
       "    <tr style=\"text-align: right;\">\n",
       "      <th></th>\n",
       "      <th>x1</th>\n",
       "      <th>x2</th>\n",
       "      <th>x7</th>\n",
       "      <th>x8</th>\n",
       "      <th>x9</th>\n",
       "      <th>x10</th>\n",
       "      <th>y</th>\n",
       "      <th>month</th>\n",
       "      <th>day_of_week</th>\n",
       "      <th>max_score</th>\n",
       "      <th>...</th>\n",
       "      <th>x4_7</th>\n",
       "      <th>x4_18</th>\n",
       "      <th>x4_20</th>\n",
       "      <th>x4_21</th>\n",
       "      <th>x4_Driver license ID</th>\n",
       "      <th>x4_PRC</th>\n",
       "      <th>x4_Passport</th>\n",
       "      <th>x4_SSS</th>\n",
       "      <th>x4_TIN</th>\n",
       "      <th>x4_UMID</th>\n",
       "    </tr>\n",
       "  </thead>\n",
       "  <tbody>\n",
       "    <tr>\n",
       "      <th>0</th>\n",
       "      <td>0.306617</td>\n",
       "      <td>0.198673</td>\n",
       "      <td>1.581417</td>\n",
       "      <td>0.405255</td>\n",
       "      <td>0.437479</td>\n",
       "      <td>1.503406</td>\n",
       "      <td>0</td>\n",
       "      <td>0.723948</td>\n",
       "      <td>-1.014434</td>\n",
       "      <td>-0.373272</td>\n",
       "      <td>...</td>\n",
       "      <td>-0.265315</td>\n",
       "      <td>-0.050163</td>\n",
       "      <td>-0.119401</td>\n",
       "      <td>-0.174707</td>\n",
       "      <td>2.007561</td>\n",
       "      <td>-0.166924</td>\n",
       "      <td>-0.3171</td>\n",
       "      <td>-0.239426</td>\n",
       "      <td>-0.411947</td>\n",
       "      <td>-0.569621</td>\n",
       "    </tr>\n",
       "    <tr>\n",
       "      <th>1</th>\n",
       "      <td>-0.778712</td>\n",
       "      <td>-0.347062</td>\n",
       "      <td>-0.632344</td>\n",
       "      <td>0.405255</td>\n",
       "      <td>0.437479</td>\n",
       "      <td>-0.665156</td>\n",
       "      <td>0</td>\n",
       "      <td>0.723948</td>\n",
       "      <td>-1.014434</td>\n",
       "      <td>-0.373272</td>\n",
       "      <td>...</td>\n",
       "      <td>-0.265315</td>\n",
       "      <td>-0.050163</td>\n",
       "      <td>-0.119401</td>\n",
       "      <td>-0.174707</td>\n",
       "      <td>2.007561</td>\n",
       "      <td>-0.166924</td>\n",
       "      <td>-0.3171</td>\n",
       "      <td>-0.239426</td>\n",
       "      <td>-0.411947</td>\n",
       "      <td>-0.569621</td>\n",
       "    </tr>\n",
       "    <tr>\n",
       "      <th>2</th>\n",
       "      <td>-0.797361</td>\n",
       "      <td>0.266890</td>\n",
       "      <td>-0.632344</td>\n",
       "      <td>0.405255</td>\n",
       "      <td>0.437479</td>\n",
       "      <td>1.503406</td>\n",
       "      <td>1</td>\n",
       "      <td>0.723948</td>\n",
       "      <td>-0.290669</td>\n",
       "      <td>-0.373272</td>\n",
       "      <td>...</td>\n",
       "      <td>-0.265315</td>\n",
       "      <td>-0.050163</td>\n",
       "      <td>-0.119401</td>\n",
       "      <td>-0.174707</td>\n",
       "      <td>-0.498117</td>\n",
       "      <td>-0.166924</td>\n",
       "      <td>-0.3171</td>\n",
       "      <td>-0.239426</td>\n",
       "      <td>2.427495</td>\n",
       "      <td>-0.569621</td>\n",
       "    </tr>\n",
       "    <tr>\n",
       "      <th>3</th>\n",
       "      <td>-0.316759</td>\n",
       "      <td>0.607974</td>\n",
       "      <td>-0.632344</td>\n",
       "      <td>0.405255</td>\n",
       "      <td>0.437479</td>\n",
       "      <td>-0.665156</td>\n",
       "      <td>1</td>\n",
       "      <td>0.723948</td>\n",
       "      <td>-0.290669</td>\n",
       "      <td>-0.373272</td>\n",
       "      <td>...</td>\n",
       "      <td>-0.265315</td>\n",
       "      <td>-0.050163</td>\n",
       "      <td>-0.119401</td>\n",
       "      <td>-0.174707</td>\n",
       "      <td>-0.498117</td>\n",
       "      <td>-0.166924</td>\n",
       "      <td>-0.3171</td>\n",
       "      <td>-0.239426</td>\n",
       "      <td>-0.411947</td>\n",
       "      <td>1.755553</td>\n",
       "    </tr>\n",
       "    <tr>\n",
       "      <th>4</th>\n",
       "      <td>0.128378</td>\n",
       "      <td>0.607974</td>\n",
       "      <td>1.581417</td>\n",
       "      <td>0.405255</td>\n",
       "      <td>-2.285826</td>\n",
       "      <td>-0.665156</td>\n",
       "      <td>1</td>\n",
       "      <td>0.723948</td>\n",
       "      <td>-1.014434</td>\n",
       "      <td>0.015822</td>\n",
       "      <td>...</td>\n",
       "      <td>-0.265315</td>\n",
       "      <td>-0.050163</td>\n",
       "      <td>-0.119401</td>\n",
       "      <td>-0.174707</td>\n",
       "      <td>-0.498117</td>\n",
       "      <td>-0.166924</td>\n",
       "      <td>-0.3171</td>\n",
       "      <td>-0.239426</td>\n",
       "      <td>-0.411947</td>\n",
       "      <td>-0.569621</td>\n",
       "    </tr>\n",
       "  </tbody>\n",
       "</table>\n",
       "<p>5 rows × 28 columns</p>\n",
       "</div>"
      ],
      "text/plain": [
       "         x1        x2        x7        x8        x9       x10  y     month  \\\n",
       "0  0.306617  0.198673  1.581417  0.405255  0.437479  1.503406  0  0.723948   \n",
       "1 -0.778712 -0.347062 -0.632344  0.405255  0.437479 -0.665156  0  0.723948   \n",
       "2 -0.797361  0.266890 -0.632344  0.405255  0.437479  1.503406  1  0.723948   \n",
       "3 -0.316759  0.607974 -0.632344  0.405255  0.437479 -0.665156  1  0.723948   \n",
       "4  0.128378  0.607974  1.581417  0.405255 -2.285826 -0.665156  1  0.723948   \n",
       "\n",
       "   day_of_week  max_score  ...      x4_7     x4_18     x4_20     x4_21  \\\n",
       "0    -1.014434  -0.373272  ... -0.265315 -0.050163 -0.119401 -0.174707   \n",
       "1    -1.014434  -0.373272  ... -0.265315 -0.050163 -0.119401 -0.174707   \n",
       "2    -0.290669  -0.373272  ... -0.265315 -0.050163 -0.119401 -0.174707   \n",
       "3    -0.290669  -0.373272  ... -0.265315 -0.050163 -0.119401 -0.174707   \n",
       "4    -1.014434   0.015822  ... -0.265315 -0.050163 -0.119401 -0.174707   \n",
       "\n",
       "   x4_Driver license ID    x4_PRC  x4_Passport    x4_SSS    x4_TIN   x4_UMID  \n",
       "0              2.007561 -0.166924      -0.3171 -0.239426 -0.411947 -0.569621  \n",
       "1              2.007561 -0.166924      -0.3171 -0.239426 -0.411947 -0.569621  \n",
       "2             -0.498117 -0.166924      -0.3171 -0.239426  2.427495 -0.569621  \n",
       "3             -0.498117 -0.166924      -0.3171 -0.239426 -0.411947  1.755553  \n",
       "4             -0.498117 -0.166924      -0.3171 -0.239426 -0.411947 -0.569621  \n",
       "\n",
       "[5 rows x 28 columns]"
      ]
     },
     "execution_count": 67,
     "metadata": {},
     "output_type": "execute_result"
    }
   ],
   "source": [
    "df.head()"
   ]
  },
  {
   "cell_type": "code",
   "execution_count": 68,
   "id": "4eb626f5-3ffe-473d-a135-72a509636a37",
   "metadata": {},
   "outputs": [
    {
     "data": {
      "text/html": [
       "<div>\n",
       "<style scoped>\n",
       "    .dataframe tbody tr th:only-of-type {\n",
       "        vertical-align: middle;\n",
       "    }\n",
       "\n",
       "    .dataframe tbody tr th {\n",
       "        vertical-align: top;\n",
       "    }\n",
       "\n",
       "    .dataframe thead th {\n",
       "        text-align: right;\n",
       "    }\n",
       "</style>\n",
       "<table border=\"1\" class=\"dataframe\">\n",
       "  <thead>\n",
       "    <tr style=\"text-align: right;\">\n",
       "      <th></th>\n",
       "      <th>x1</th>\n",
       "      <th>x2</th>\n",
       "      <th>x3</th>\n",
       "      <th>x4</th>\n",
       "      <th>x7</th>\n",
       "      <th>x8</th>\n",
       "      <th>x9</th>\n",
       "      <th>x10</th>\n",
       "      <th>y</th>\n",
       "      <th>month</th>\n",
       "      <th>day_of_week</th>\n",
       "      <th>max_score</th>\n",
       "      <th>min_score</th>\n",
       "    </tr>\n",
       "  </thead>\n",
       "  <tbody>\n",
       "    <tr>\n",
       "      <th>0</th>\n",
       "      <td>0.306617</td>\n",
       "      <td>0.198673</td>\n",
       "      <td>Android</td>\n",
       "      <td>Driver license ID</td>\n",
       "      <td>1.581417</td>\n",
       "      <td>0.405255</td>\n",
       "      <td>0.437479</td>\n",
       "      <td>1.503406</td>\n",
       "      <td>0</td>\n",
       "      <td>0.723948</td>\n",
       "      <td>-1.014434</td>\n",
       "      <td>-0.373272</td>\n",
       "      <td>-0.212474</td>\n",
       "    </tr>\n",
       "    <tr>\n",
       "      <th>1</th>\n",
       "      <td>-0.778712</td>\n",
       "      <td>-0.347062</td>\n",
       "      <td>Android</td>\n",
       "      <td>Driver license ID</td>\n",
       "      <td>-0.632344</td>\n",
       "      <td>0.405255</td>\n",
       "      <td>0.437479</td>\n",
       "      <td>-0.665156</td>\n",
       "      <td>0</td>\n",
       "      <td>0.723948</td>\n",
       "      <td>-1.014434</td>\n",
       "      <td>-0.373272</td>\n",
       "      <td>-0.212474</td>\n",
       "    </tr>\n",
       "    <tr>\n",
       "      <th>2</th>\n",
       "      <td>-0.797361</td>\n",
       "      <td>0.266890</td>\n",
       "      <td>Android</td>\n",
       "      <td>TIN</td>\n",
       "      <td>-0.632344</td>\n",
       "      <td>0.405255</td>\n",
       "      <td>0.437479</td>\n",
       "      <td>1.503406</td>\n",
       "      <td>1</td>\n",
       "      <td>0.723948</td>\n",
       "      <td>-0.290669</td>\n",
       "      <td>-0.373272</td>\n",
       "      <td>-0.212474</td>\n",
       "    </tr>\n",
       "    <tr>\n",
       "      <th>3</th>\n",
       "      <td>-0.316759</td>\n",
       "      <td>0.607974</td>\n",
       "      <td>Android</td>\n",
       "      <td>UMID</td>\n",
       "      <td>-0.632344</td>\n",
       "      <td>0.405255</td>\n",
       "      <td>0.437479</td>\n",
       "      <td>-0.665156</td>\n",
       "      <td>1</td>\n",
       "      <td>0.723948</td>\n",
       "      <td>-0.290669</td>\n",
       "      <td>-0.373272</td>\n",
       "      <td>-0.212474</td>\n",
       "    </tr>\n",
       "    <tr>\n",
       "      <th>4</th>\n",
       "      <td>0.128378</td>\n",
       "      <td>0.607974</td>\n",
       "      <td>Android</td>\n",
       "      <td>4</td>\n",
       "      <td>1.581417</td>\n",
       "      <td>0.405255</td>\n",
       "      <td>-2.285826</td>\n",
       "      <td>-0.665156</td>\n",
       "      <td>1</td>\n",
       "      <td>0.723948</td>\n",
       "      <td>-1.014434</td>\n",
       "      <td>0.015822</td>\n",
       "      <td>-0.212474</td>\n",
       "    </tr>\n",
       "  </tbody>\n",
       "</table>\n",
       "</div>"
      ],
      "text/plain": [
       "         x1        x2       x3                 x4        x7        x8  \\\n",
       "0  0.306617  0.198673  Android  Driver license ID  1.581417  0.405255   \n",
       "1 -0.778712 -0.347062  Android  Driver license ID -0.632344  0.405255   \n",
       "2 -0.797361  0.266890  Android                TIN -0.632344  0.405255   \n",
       "3 -0.316759  0.607974  Android               UMID -0.632344  0.405255   \n",
       "4  0.128378  0.607974  Android                  4  1.581417  0.405255   \n",
       "\n",
       "         x9       x10  y     month  day_of_week  max_score  min_score  \n",
       "0  0.437479  1.503406  0  0.723948    -1.014434  -0.373272  -0.212474  \n",
       "1  0.437479 -0.665156  0  0.723948    -1.014434  -0.373272  -0.212474  \n",
       "2  0.437479  1.503406  1  0.723948    -0.290669  -0.373272  -0.212474  \n",
       "3  0.437479 -0.665156  1  0.723948    -0.290669  -0.373272  -0.212474  \n",
       "4 -2.285826 -0.665156  1  0.723948    -1.014434   0.015822  -0.212474  "
      ]
     },
     "execution_count": 68,
     "metadata": {},
     "output_type": "execute_result"
    }
   ],
   "source": [
    "df_for_cat.head()"
   ]
  },
  {
   "cell_type": "markdown",
   "id": "8ba44800-2336-442a-9c8d-38388d1a1b7a",
   "metadata": {},
   "source": [
    "___"
   ]
  },
  {
   "cell_type": "markdown",
   "id": "aaa38655-129a-44fb-b7d0-f98c2d2d982d",
   "metadata": {},
   "source": [
    "## Train test split"
   ]
  },
  {
   "cell_type": "code",
   "execution_count": 69,
   "id": "9c3db25f-ed79-4a72-ba28-2cadaa3ccdf8",
   "metadata": {},
   "outputs": [],
   "source": [
    "X = df.drop('y', axis=1)\n",
    "y = df['y']"
   ]
  },
  {
   "cell_type": "code",
   "execution_count": 70,
   "id": "0cb1f4fa-32d1-4880-859a-8c0cb7a5f938",
   "metadata": {},
   "outputs": [],
   "source": [
    "X_train, X_test, y_train, y_test = train_test_split(X, y, test_size=0.2, random_state=42, stratify=y)"
   ]
  },
  {
   "cell_type": "markdown",
   "id": "7bcd7504-45cf-4792-a29e-bb5911c6c48d",
   "metadata": {},
   "source": [
    "## Logistic Regression"
   ]
  },
  {
   "cell_type": "code",
   "execution_count": 71,
   "id": "76ab788f-7ca8-40d1-9c2a-adb504afefc4",
   "metadata": {},
   "outputs": [],
   "source": [
    "with mlflow.start_run():\n",
    "\n",
    "    # Initialize parameters\n",
    "    params = {\n",
    "        'max_iter': 1000,\n",
    "        'penalty': 'l1',\n",
    "        'solver': 'liblinear'\n",
    "    }\n",
    "\n",
    "    # Log model name and parameters\n",
    "    mlflow.set_tag('model_name', 'Logistic_Regression')\n",
    "    mlflow.log_params(params)\n",
    "\n",
    "    # Train the model\n",
    "    model = LogisticRegression(**params)\n",
    "    model.fit(X_train, y_train)\n",
    "\n",
    "    # Predict\n",
    "    y_hat_train = model.predict_proba(X_train)[:, 1]\n",
    "    y_hat_test = model.predict_proba(X_test)[:, 1]\n",
    "    \n",
    "    # Get metrics\n",
    "    roc_auc_train = roc_auc_score(y_train, y_hat_train)\n",
    "    gini_train = 2 * roc_auc_train - 1\n",
    "    roc_auc_test = roc_auc_score(y_test, y_hat_test) \n",
    "    gini_test = 2 * roc_auc_test - 1\n",
    "\n",
    "    # Log metrics and model\n",
    "    mlflow.log_metric('gini_train', gini_train)\n",
    "    mlflow.log_metric('gini_test', gini_test)\n",
    "    mlflow.sklearn.log_model(model, 'sk_models')"
   ]
  },
  {
   "cell_type": "markdown",
   "id": "974bbddb-97b8-4489-b62c-03df60927401",
   "metadata": {},
   "source": [
    "## Random Forest"
   ]
  },
  {
   "cell_type": "code",
   "execution_count": 72,
   "id": "26d4b305-18de-426c-b48e-beaa883d53c5",
   "metadata": {},
   "outputs": [
    {
     "name": "stderr",
     "output_type": "stream",
     "text": [
      "/Library/Frameworks/Python.framework/Versions/3.11/lib/python3.11/site-packages/_distutils_hack/__init__.py:18: UserWarning: Distutils was imported before Setuptools, but importing Setuptools also replaces the `distutils` module in `sys.modules`. This may lead to undesirable behaviors or errors. To avoid these issues, avoid using distutils directly, ensure that setuptools is installed in the traditional way (e.g. not an editable install), and/or make sure that setuptools is always imported before distutils.\n",
      "  warnings.warn(\n",
      "/Library/Frameworks/Python.framework/Versions/3.11/lib/python3.11/site-packages/_distutils_hack/__init__.py:33: UserWarning: Setuptools is replacing distutils.\n",
      "  warnings.warn(\"Setuptools is replacing distutils.\")\n"
     ]
    }
   ],
   "source": [
    "with mlflow.start_run():\n",
    "\n",
    "    # Initialize parameters\n",
    "    params = {\n",
    "        'n_estimators': 100,\n",
    "        'max_depth': 100,\n",
    "        'min_samples_split': 10,\n",
    "        'min_samples_leaf': 4,\n",
    "        'criterion': 'gini'\n",
    "    }\n",
    "\n",
    "    # Log model name and parameters\n",
    "    mlflow.set_tag('model_name', 'RandomForestClassifier')\n",
    "    mlflow.log_params(params)\n",
    "\n",
    "    # Train the model\n",
    "    model = RandomForestClassifier(**params)\n",
    "    model.fit(X_train, y_train)\n",
    "\n",
    "    # Predict\n",
    "    y_hat_train = model.predict_proba(X_train)[:, 1]\n",
    "    y_hat_test = model.predict_proba(X_test)[:, 1]\n",
    "    \n",
    "    # Get metrics\n",
    "    roc_auc_train = roc_auc_score(y_train, y_hat_train)\n",
    "    gini_train = 2 * roc_auc_train - 1\n",
    "    roc_auc_test = roc_auc_score(y_test, y_hat_test)\n",
    "    gini_test = 2 * roc_auc_test - 1\n",
    "\n",
    "    # Log metrics and model\n",
    "    mlflow.log_metric('gini_train', gini_train)\n",
    "    mlflow.log_metric('gini_test', gini_test)\n",
    "    mlflow.sklearn.log_model(model, 'RF_models')"
   ]
  },
  {
   "cell_type": "markdown",
   "id": "ee790fc2-5cd7-447b-8241-1e45d762cc1a",
   "metadata": {},
   "source": [
    "## CatBoost"
   ]
  },
  {
   "cell_type": "code",
   "execution_count": 73,
   "id": "356a963e-6b23-4923-8494-193ce09e3637",
   "metadata": {},
   "outputs": [
    {
     "name": "stderr",
     "output_type": "stream",
     "text": [
      "/Library/Frameworks/Python.framework/Versions/3.11/lib/python3.11/site-packages/_distutils_hack/__init__.py:18: UserWarning: Distutils was imported before Setuptools, but importing Setuptools also replaces the `distutils` module in `sys.modules`. This may lead to undesirable behaviors or errors. To avoid these issues, avoid using distutils directly, ensure that setuptools is installed in the traditional way (e.g. not an editable install), and/or make sure that setuptools is always imported before distutils.\n",
      "  warnings.warn(\n",
      "/Library/Frameworks/Python.framework/Versions/3.11/lib/python3.11/site-packages/_distutils_hack/__init__.py:33: UserWarning: Setuptools is replacing distutils.\n",
      "  warnings.warn(\"Setuptools is replacing distutils.\")\n"
     ]
    }
   ],
   "source": [
    "with mlflow.start_run():\n",
    "\n",
    "    # Initialize parameters\n",
    "    params = {\n",
    "        'iterations': 1000,\n",
    "        'learning_rate': 0.01,\n",
    "        'depth': 5,\n",
    "        'cat_features': None,\n",
    "        'verbose': 0\n",
    "    }\n",
    "\n",
    "    # Log model name and parameters\n",
    "    mlflow.set_tag('model_name', 'CatBoostClassifier')\n",
    "    mlflow.log_params(params)\n",
    "\n",
    "    # Train the model\n",
    "    # model = CatBoostClassifier(verbose=0)\n",
    "    model = CatBoostClassifier(**params)\n",
    "    model.fit(X_train, y_train)\n",
    "\n",
    "    # Predict\n",
    "    y_hat_train = model.predict_proba(X_train)[:, 1]\n",
    "    y_hat_test = model.predict_proba(X_test)[:, 1]\n",
    "    \n",
    "    # Get metrics\n",
    "    roc_auc_train = roc_auc_score(y_train, y_hat_train)\n",
    "    gini_train = 2 * roc_auc_train - 1\n",
    "    roc_auc_test = roc_auc_score(y_test, y_hat_test)\n",
    "    gini_test = 2 * roc_auc_test - 1\n",
    "\n",
    "    # Log metrics and model\n",
    "    mlflow.log_metric('gini_train', gini_train)\n",
    "    mlflow.log_metric('gini_test', gini_test)\n",
    "    mlflow.catboost.log_model(model, 'CB_models')"
   ]
  },
  {
   "cell_type": "markdown",
   "id": "f3635810-d636-46ae-8b04-29593f5f7b7a",
   "metadata": {},
   "source": [
    "## Catboost, batch categorical features"
   ]
  },
  {
   "cell_type": "code",
   "execution_count": 74,
   "id": "44c80a6e-a7b8-4e01-84c8-1417e99c8226",
   "metadata": {},
   "outputs": [
    {
     "data": {
      "text/html": [
       "<div>\n",
       "<style scoped>\n",
       "    .dataframe tbody tr th:only-of-type {\n",
       "        vertical-align: middle;\n",
       "    }\n",
       "\n",
       "    .dataframe tbody tr th {\n",
       "        vertical-align: top;\n",
       "    }\n",
       "\n",
       "    .dataframe thead th {\n",
       "        text-align: right;\n",
       "    }\n",
       "</style>\n",
       "<table border=\"1\" class=\"dataframe\">\n",
       "  <thead>\n",
       "    <tr style=\"text-align: right;\">\n",
       "      <th></th>\n",
       "      <th>x1</th>\n",
       "      <th>x2</th>\n",
       "      <th>x3</th>\n",
       "      <th>x4</th>\n",
       "      <th>x7</th>\n",
       "      <th>x8</th>\n",
       "      <th>x9</th>\n",
       "      <th>x10</th>\n",
       "      <th>y</th>\n",
       "      <th>month</th>\n",
       "      <th>day_of_week</th>\n",
       "      <th>max_score</th>\n",
       "      <th>min_score</th>\n",
       "    </tr>\n",
       "  </thead>\n",
       "  <tbody>\n",
       "    <tr>\n",
       "      <th>0</th>\n",
       "      <td>0.306617</td>\n",
       "      <td>0.198673</td>\n",
       "      <td>Android</td>\n",
       "      <td>Driver license ID</td>\n",
       "      <td>1.581417</td>\n",
       "      <td>0.405255</td>\n",
       "      <td>0.437479</td>\n",
       "      <td>1.503406</td>\n",
       "      <td>0</td>\n",
       "      <td>0.723948</td>\n",
       "      <td>-1.014434</td>\n",
       "      <td>-0.373272</td>\n",
       "      <td>-0.212474</td>\n",
       "    </tr>\n",
       "    <tr>\n",
       "      <th>1</th>\n",
       "      <td>-0.778712</td>\n",
       "      <td>-0.347062</td>\n",
       "      <td>Android</td>\n",
       "      <td>Driver license ID</td>\n",
       "      <td>-0.632344</td>\n",
       "      <td>0.405255</td>\n",
       "      <td>0.437479</td>\n",
       "      <td>-0.665156</td>\n",
       "      <td>0</td>\n",
       "      <td>0.723948</td>\n",
       "      <td>-1.014434</td>\n",
       "      <td>-0.373272</td>\n",
       "      <td>-0.212474</td>\n",
       "    </tr>\n",
       "    <tr>\n",
       "      <th>2</th>\n",
       "      <td>-0.797361</td>\n",
       "      <td>0.266890</td>\n",
       "      <td>Android</td>\n",
       "      <td>TIN</td>\n",
       "      <td>-0.632344</td>\n",
       "      <td>0.405255</td>\n",
       "      <td>0.437479</td>\n",
       "      <td>1.503406</td>\n",
       "      <td>1</td>\n",
       "      <td>0.723948</td>\n",
       "      <td>-0.290669</td>\n",
       "      <td>-0.373272</td>\n",
       "      <td>-0.212474</td>\n",
       "    </tr>\n",
       "    <tr>\n",
       "      <th>3</th>\n",
       "      <td>-0.316759</td>\n",
       "      <td>0.607974</td>\n",
       "      <td>Android</td>\n",
       "      <td>UMID</td>\n",
       "      <td>-0.632344</td>\n",
       "      <td>0.405255</td>\n",
       "      <td>0.437479</td>\n",
       "      <td>-0.665156</td>\n",
       "      <td>1</td>\n",
       "      <td>0.723948</td>\n",
       "      <td>-0.290669</td>\n",
       "      <td>-0.373272</td>\n",
       "      <td>-0.212474</td>\n",
       "    </tr>\n",
       "    <tr>\n",
       "      <th>4</th>\n",
       "      <td>0.128378</td>\n",
       "      <td>0.607974</td>\n",
       "      <td>Android</td>\n",
       "      <td>4</td>\n",
       "      <td>1.581417</td>\n",
       "      <td>0.405255</td>\n",
       "      <td>-2.285826</td>\n",
       "      <td>-0.665156</td>\n",
       "      <td>1</td>\n",
       "      <td>0.723948</td>\n",
       "      <td>-1.014434</td>\n",
       "      <td>0.015822</td>\n",
       "      <td>-0.212474</td>\n",
       "    </tr>\n",
       "  </tbody>\n",
       "</table>\n",
       "</div>"
      ],
      "text/plain": [
       "         x1        x2       x3                 x4        x7        x8  \\\n",
       "0  0.306617  0.198673  Android  Driver license ID  1.581417  0.405255   \n",
       "1 -0.778712 -0.347062  Android  Driver license ID -0.632344  0.405255   \n",
       "2 -0.797361  0.266890  Android                TIN -0.632344  0.405255   \n",
       "3 -0.316759  0.607974  Android               UMID -0.632344  0.405255   \n",
       "4  0.128378  0.607974  Android                  4  1.581417  0.405255   \n",
       "\n",
       "         x9       x10  y     month  day_of_week  max_score  min_score  \n",
       "0  0.437479  1.503406  0  0.723948    -1.014434  -0.373272  -0.212474  \n",
       "1  0.437479 -0.665156  0  0.723948    -1.014434  -0.373272  -0.212474  \n",
       "2  0.437479  1.503406  1  0.723948    -0.290669  -0.373272  -0.212474  \n",
       "3  0.437479 -0.665156  1  0.723948    -0.290669  -0.373272  -0.212474  \n",
       "4 -2.285826 -0.665156  1  0.723948    -1.014434   0.015822  -0.212474  "
      ]
     },
     "execution_count": 74,
     "metadata": {},
     "output_type": "execute_result"
    }
   ],
   "source": [
    "df_for_cat.head()"
   ]
  },
  {
   "cell_type": "code",
   "execution_count": 75,
   "id": "b8bf5a08-59ea-445f-9bb7-0ece0f6c79b6",
   "metadata": {},
   "outputs": [],
   "source": [
    "cat_features = [i for i in df_for_cat.describe(include='object').columns]"
   ]
  },
  {
   "cell_type": "code",
   "execution_count": 76,
   "id": "c0abf4c1-20c3-43ca-bc3b-9725c0ffc060",
   "metadata": {},
   "outputs": [],
   "source": [
    "X_cat = df_for_cat.drop('y', axis=1)\n",
    "y_cat = df_for_cat['y']\n",
    "\n",
    "X_train_cat, X_test_cat, y_train_cat, y_test_cat = train_test_split(X_cat, y_cat, test_size=0.2, random_state=42, stratify=y_cat)"
   ]
  },
  {
   "cell_type": "code",
   "execution_count": 77,
   "id": "d1d36b0d-a7dc-4dae-89c7-701409142cc1",
   "metadata": {},
   "outputs": [
    {
     "name": "stderr",
     "output_type": "stream",
     "text": [
      "/Library/Frameworks/Python.framework/Versions/3.11/lib/python3.11/site-packages/_distutils_hack/__init__.py:18: UserWarning: Distutils was imported before Setuptools, but importing Setuptools also replaces the `distutils` module in `sys.modules`. This may lead to undesirable behaviors or errors. To avoid these issues, avoid using distutils directly, ensure that setuptools is installed in the traditional way (e.g. not an editable install), and/or make sure that setuptools is always imported before distutils.\n",
      "  warnings.warn(\n",
      "/Library/Frameworks/Python.framework/Versions/3.11/lib/python3.11/site-packages/_distutils_hack/__init__.py:33: UserWarning: Setuptools is replacing distutils.\n",
      "  warnings.warn(\"Setuptools is replacing distutils.\")\n"
     ]
    }
   ],
   "source": [
    "with mlflow.start_run():\n",
    "\n",
    "    # Initialize parameters\n",
    "    params = {\n",
    "        'iterations': 1000,\n",
    "        'learning_rate': 0.01,\n",
    "        'depth': 5,\n",
    "        'cat_features': cat_features,\n",
    "        'verbose': 0\n",
    "    }\n",
    "\n",
    "    # Log model name and parameters\n",
    "    mlflow.set_tag('model_name', 'CatBoostClassifier_Cat_Features')\n",
    "    mlflow.log_params(params)\n",
    "\n",
    "    # Train the model\n",
    "    # model = CatBoostClassifier(verbose=0)\n",
    "    model = CatBoostClassifier(**params)\n",
    "    model.fit(X_train_cat, y_train_cat)\n",
    "\n",
    "    # Predict\n",
    "    y_hat_train = model.predict_proba(X_train_cat)[:, 1]\n",
    "    y_hat_test = model.predict_proba(X_test_cat)[:, 1]\n",
    "    \n",
    "    # Get metrics\n",
    "    roc_auc_train = roc_auc_score(y_train_cat, y_hat_train)\n",
    "    gini_train = 2 * roc_auc_train - 1\n",
    "    roc_auc_test = roc_auc_score(y_test_cat, y_hat_test) \n",
    "    gini_test = 2 * roc_auc_test - 1 \n",
    "\n",
    "    # Log metrics and model\n",
    "    mlflow.log_metric('gini_train', gini_train)\n",
    "    mlflow.log_metric('gini_test', gini_test)\n",
    "    mlflow.catboost.log_model(model, 'CB_models_CAT_FEATURES')"
   ]
  },
  {
   "cell_type": "markdown",
   "id": "0b679cb3-5bfb-4645-a1c7-d2589a29f3f8",
   "metadata": {},
   "source": [
    "____"
   ]
  },
  {
   "cell_type": "markdown",
   "id": "4b0fde55-9a5d-4f79-b948-3c74296a1a6f",
   "metadata": {},
   "source": [
    "## Get info about best experiment"
   ]
  },
  {
   "cell_type": "code",
   "execution_count": 90,
   "id": "c0f3d094-b4f7-4274-91d5-76c11dc9c85f",
   "metadata": {},
   "outputs": [],
   "source": [
    "experiment = client.get_experiment_by_name(\"Credit_Scoring\")\n",
    "experiment_id = experiment.experiment_id"
   ]
  },
  {
   "cell_type": "code",
   "execution_count": 92,
   "id": "14e3326f-d646-4c63-a7ed-0c464f532bf5",
   "metadata": {},
   "outputs": [],
   "source": [
    "client = mlflow.tracking.MlflowClient()"
   ]
  },
  {
   "cell_type": "code",
   "execution_count": 94,
   "id": "8b0d60da-4632-4b02-a7a9-d426edf81f63",
   "metadata": {},
   "outputs": [],
   "source": [
    "best_run = client.search_runs(\n",
    "    experiment_ids=[experiment_id],\n",
    "    order_by=[\"metrics.gini_test DESC\"],\n",
    "    max_results=1\n",
    ")[0]"
   ]
  },
  {
   "cell_type": "code",
   "execution_count": 98,
   "id": "a0b12cb5-ecdc-49e1-b5aa-f95e72aef0da",
   "metadata": {},
   "outputs": [
    {
     "name": "stdout",
     "output_type": "stream",
     "text": [
      "Metrics:\n",
      "gini_train: 0.2166915391949591\n",
      "gini_test: 0.24561500275786008\n",
      "\n",
      "Parameters:\n",
      "max_iter: 1000\n",
      "penalty: l1\n",
      "solver: liblinear\n"
     ]
    }
   ],
   "source": [
    "print(\"Metrics:\")\n",
    "for metric, value in best_run.data.metrics.items():\n",
    "    print(f\"{metric}: {value}\")\n",
    "\n",
    "print(\"\\nParameters:\")\n",
    "for param, value in best_run.data.params.items():\n",
    "    print(f\"{param}: {value}\")"
   ]
  },
  {
   "cell_type": "markdown",
   "id": "68820f32-9890-441d-b719-f657bb0b7766",
   "metadata": {},
   "source": [
    "____"
   ]
  }
 ],
 "metadata": {
  "kernelspec": {
   "display_name": "Python 3 (ipykernel)",
   "language": "python",
   "name": "python3"
  },
  "language_info": {
   "codemirror_mode": {
    "name": "ipython",
    "version": 3
   },
   "file_extension": ".py",
   "mimetype": "text/x-python",
   "name": "python",
   "nbconvert_exporter": "python",
   "pygments_lexer": "ipython3",
   "version": "3.11.4"
  }
 },
 "nbformat": 4,
 "nbformat_minor": 5
}
